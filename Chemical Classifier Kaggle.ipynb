{
 "cells": [
  {
   "cell_type": "code",
   "execution_count": 2,
   "metadata": {},
   "outputs": [],
   "source": [
    "import numpy as np\n",
    "import matplotlib.pyplot as plt\n",
    "import pandas as pd"
   ]
  },
  {
   "cell_type": "code",
   "execution_count": 12,
   "metadata": {},
   "outputs": [
    {
     "name": "stdout",
     "output_type": "stream",
     "text": [
      "         f1        f2        f3\n",
      "0 -1.239375  0.749101 -0.528515\n",
      "1 -1.036070  0.801436 -1.283712\n",
      "2 -0.615579  1.579521 -1.391927\n",
      "3  1.335978  1.348651  1.433564\n",
      "4  0.658925  1.300019  0.571603\n",
      "   label\n",
      "0      1\n",
      "1      1\n",
      "2      1\n",
      "3      0\n",
      "4      0\n"
     ]
    }
   ],
   "source": [
    "X = pd.read_csv('./Training Data/Logistic_X_Train.csv')\n",
    "Y = pd.read_csv('./Training Data/Logistic_Y_Train.csv')\n",
    "print(X.head());\n",
    "print(Y.head());\n",
    "\n",
    "# Convert X,Y to Numpy arrays\n",
    "X = X.values\n",
    "Y = Y.values"
   ]
  },
  {
   "cell_type": "code",
   "execution_count": 13,
   "metadata": {},
   "outputs": [],
   "source": [
    "def hypothesis(x,w,b):\n",
    "    '''accepts input vector x, input weight vector w and bias b'''\n",
    "    \n",
    "    h = np.dot(x,w) + b\n",
    "    return sigmoid(h)\n",
    "\n",
    "def sigmoid(z):\n",
    "    return 1.0/(1.0 + np.exp(-1.0*z))\n",
    "\n",
    "def error(y_true,x,w,b):\n",
    "    \n",
    "    m = x.shape[0]\n",
    "    \n",
    "    err = 0.0\n",
    "    \n",
    "    for i in range(m):\n",
    "        hx = hypothesis(x[i],w,b) \n",
    "        err += y_true[i]*np.log2(hx) + (1-y_true[i])*np.log2(1-hx)\n",
    "        \n",
    "    \n",
    "    return -err/m\n",
    "\n",
    "\n",
    "def get_grads(y_true,x,w,b):\n",
    "    \n",
    "    grad_w = np.zeros(w.shape)\n",
    "    grad_b = 0.0\n",
    "    \n",
    "    m = x.shape[0]\n",
    "    \n",
    "    for i in range(m):\n",
    "        hx = hypothesis(x[i],w,b)\n",
    "        \n",
    "        grad_w += (y_true[i] - hx)*x[i]\n",
    "        grad_b +=  (y_true[i]-hx)\n",
    "        \n",
    "    \n",
    "    grad_w /= m\n",
    "    grad_b /= m\n",
    "    \n",
    "    return [grad_w,grad_b]\n",
    "\n",
    "\n",
    "# One Iteration of Gradient Descent\n",
    "def grad_descent(x,y_true,w,b,learning_rate=0.1):\n",
    "    \n",
    "    err = error(y_true,x,w,b)\n",
    "    [grad_w,grad_b] = get_grads(y_true,x,w,b)\n",
    "    \n",
    "    w = w + learning_rate*grad_w\n",
    "    b = b + learning_rate*grad_b\n",
    "    \n",
    "    return err,w,b\n",
    "    \n",
    "def predict(x,w,b):\n",
    "    \n",
    "    confidence = hypothesis(x,w,b)\n",
    "    if confidence<0.5:\n",
    "        return 0\n",
    "    else:\n",
    "        return 1\n",
    "    \n",
    "def get_acc(x_tst,y_tst,w,b):\n",
    "    \n",
    "    y_pred = []\n",
    "    \n",
    "    for i in range(y_tst.shape[0]):\n",
    "        p = predict(x_tst[i],w,b)\n",
    "        y_pred.append(p)\n",
    "        \n",
    "    y_pred = np.array(y_pred)\n",
    "    \n",
    "    return  float((y_pred==y_tst).sum())/y_tst.shape[0]"
   ]
  },
  {
   "cell_type": "code",
   "execution_count": 14,
   "metadata": {},
   "outputs": [],
   "source": [
    "W = 2*np.random.random((X.shape[1],))\n",
    "b = 5*np.random.random()"
   ]
  },
  {
   "cell_type": "code",
   "execution_count": 15,
   "metadata": {},
   "outputs": [],
   "source": [
    "\n",
    "for i in range(1000):\n",
    "    l,W,b = grad_descent(X,Y,W,b,learning_rate=0.1)\n",
    "    "
   ]
  },
  {
   "cell_type": "code",
   "execution_count": 23,
   "metadata": {},
   "outputs": [],
   "source": [
    "y_=[]\n",
    "x_test = pd.read_csv('./Test Cases/Logistic_X_Test.csv')\n",
    "x_test=x_test.values\n",
    "m=x_test.shape[0]\n",
    "for i in range(m):\n",
    "    p= predict(x_test[i],W,b)\n",
    "    y_.append(p)\n",
    "y_ = np.array(y_)"
   ]
  },
  {
   "cell_type": "code",
   "execution_count": 24,
   "metadata": {},
   "outputs": [
    {
     "name": "stdout",
     "output_type": "stream",
     "text": [
      "[1 1 0 1 1 1 0 1 0 0 0 1 1 1 1 0 1 0 1 0 1 0 1 0 1 1 0 0 0 1 1 1 1 0 0 0 1\n",
      " 0 0 0 1 0 0 0 0 1 0 0 0 1 1 1 1 1 0 0 0 1 0 0 0 1 1 0 1 1 0 0 0 0 0 1 0 1\n",
      " 1 1 0 1 1 0 0 0 1 1 1 0 1 1 1 0 0 1 1 0 0 1 1 1 1 0 1 0 1 1 0 1 0 0 0 0 0\n",
      " 1 0 0 0 1 0 0 0 0 0 1 0 1 0 0 0 1 1 0 1 1 1 0 0 0 0 0 1 1 1 1 0 1 0 0 1 1\n",
      " 1 0 1 1 0 1 0 1 0 0 0 0 0 0 0 0 1 0 0 1 1 1 1 1 1 0 1 1 1 0 1 0 0 0 1 0 0\n",
      " 1 1 1 1 1 0 0 1 0 1 0 0 0 1 1 1 1 0 0 0 1 0 0 0 0 0 0 0 0 1 1 1 0 1 0 0 1\n",
      " 1 1 1 0 1 1 0 0 1 0 0 1 0 1 0 0 1 1 1 0 0 0 0 0 0 1 1 1 0 1 1 0 1 0 1 0 0\n",
      " 1 1 1 0 0 1 1 1 0 1 1 1 1 1 0 1 0 0 0 0 0 1 1 0 0 0 0 0 1 0 0 1 1 0 1 0 1\n",
      " 0 1 0 1 1 0 1 1 0 1 0 1 1 0 0 0 0 1 0 0 0 1 1 1 1 1 0 1 1 0 0 0 1 0 1 1 0\n",
      " 0 1 1 1 0 0 0 1 1 1 0 1 1 1 1 1 0 1 0 1 0 1 1 0 1 1 0 1 1 1 0 1 1 0 1 0 0\n",
      " 1 1 1 1 1 1 0 1 0 0 0 1 1 1 1 1 1 0 1 1 0 1 0 1 0 0 0 0 0 1 0 0 1 0 1 1 0\n",
      " 0 0 1 1 1 0 1 0 1 0 1 1 0 1 1 1 0 0 0 1 1 0 1 1 0 1 1 1 0 0 0 1 1 1 0 1 0\n",
      " 0 0 1 0 0 0 0 1 1 0 1 0 1 1 0 0 1 1 1 1 0 1 1 0 1 1 1 1 1 1 1 1 0 1 0 1 0\n",
      " 0 1 0 1 0 1 0 0 0 0 0 0 0 1 1 1 1 1 0 0 0 0 1 0 1 0 1 1 0 0 0 0 1 0 0 0 0\n",
      " 1 0 1 0 1 1 0 1 1 1 1 1 1 0 0 0 0 1 0 0 0 1 1 1 1 1 0 0 0 1 1 0 0 0 1 0 0\n",
      " 1 1 0 1 0 0 1 0 1 0 1 0 0 0 1 0 1 1 0 0 0 1 0 0 0 1 0 1 0 0 0 1 1 1 0 0 0\n",
      " 0 1 0 1 0 1 1 0 0 1 0 1 1 0 1 1 0 1 1 0 1 1 1 1 1 1 0 0 0 1 0 0 1 1 0 1 1\n",
      " 0 0 1 1 1 0 1 1 0 0 1 0 1 0 0 1 0 1 1 0 1 1 0 0 1 0 1 1 1 0 0 0 1 0 0 1 1\n",
      " 0 1 1 1 1 0 0 1 1 1 0 0 1 0 0 1 1 1 0 1 1 1 0 1 0 0 1 0 1 0 1 1 0 1 1 0 1\n",
      " 1 1 1 1 0 0 0 1 1 0 1 1 1 1 1 0 1 1 1 0 0 1 1 1 1 0 1 0 1 1 0 1 1 0 1 1 1\n",
      " 0 1 1 1 0 0 1 1 0 0 1 0 1 1 0 0 0 0 0 0 1 1 0 0 0 0 1 0 0 1 0 0 0 1 1 1 0\n",
      " 1 1 1 1 1 0 1 1 0 1 1 1 1 0 1 0 0 1 1 0 0 0 0 1 1 1 0 0 0 0 1 0 0 0 0 1 1\n",
      " 0 0 1 1 1 0 1 0 1 0 1 0 0 1 0 0 0 0 1 0 0 0 1 0 0 1 1 1 0 0 0 0 1 1 0 0 0\n",
      " 0 1 0 0 0 1 1 1 1 1 1 1 1 0 1 0 0 0 0 1 0 0 0 1 1 1 0 1 1 1 1 0 1 0 1 1 0\n",
      " 1 0 1 1 1 1 1 1 0 0 0 1 1 0 1 1 0 1 0 0 1 0 1 1 1 0 0 1 1 1 0 0 0 1 0 1 0\n",
      " 0 0 0 1 1 0 0 1 0 0 1 1 1 0 1 1 1 0 0 0 1 0 0 0 0 0 0 0 1 1 1 0 0 1 0 1 0\n",
      " 1 1 1 1 1 0 1 0 1 1 0 1 0 0 0 1 0 0 1 0 1 1 0 1 1 0 1 1 0 0 0 1 1 0 0 1 1\n",
      " 0]\n"
     ]
    }
   ],
   "source": [
    "print(y_)"
   ]
  },
  {
   "cell_type": "code",
   "execution_count": 25,
   "metadata": {},
   "outputs": [
    {
     "name": "stdout",
     "output_type": "stream",
     "text": [
      "(1000,)\n"
     ]
    }
   ],
   "source": [
    "print(y_.shape)"
   ]
  },
  {
   "cell_type": "code",
   "execution_count": 26,
   "metadata": {},
   "outputs": [],
   "source": [
    "df = pd.DataFrame(data=y_,columns=[\"target\"])\n",
    "df.to_csv('y_prediction.csv',index=False)"
   ]
  },
  {
   "cell_type": "code",
   "execution_count": null,
   "metadata": {},
   "outputs": [],
   "source": []
  }
 ],
 "metadata": {
  "kernelspec": {
   "display_name": "Python 3",
   "language": "python",
   "name": "python3"
  },
  "language_info": {
   "codemirror_mode": {
    "name": "ipython",
    "version": 3
   },
   "file_extension": ".py",
   "mimetype": "text/x-python",
   "name": "python",
   "nbconvert_exporter": "python",
   "pygments_lexer": "ipython3",
   "version": "3.8.1"
  }
 },
 "nbformat": 4,
 "nbformat_minor": 4
}
